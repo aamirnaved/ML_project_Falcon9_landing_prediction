{
 "cells": [
  {
   "cell_type": "markdown",
   "id": "705b6f92-a593-41f9-a6cc-1986fcfbedca",
   "metadata": {},
   "source": [
    "# My Jupyter Notebook on IBM Watson Studio"
   ]
  },
  {
   "cell_type": "markdown",
   "id": "14ea02d4-8a6c-466d-bf4a-cc1a6f36759e",
   "metadata": {},
   "source": [
    "__Yousuf Sultan__\n",
    "\n",
    "Data Scientist"
   ]
  },
  {
   "cell_type": "markdown",
   "id": "e4efc485-f2eb-4cd6-b78f-0419f6ee15b0",
   "metadata": {},
   "source": [
    "_I am interested in Data Science because I find it very attractive and it feels like solving a real problem_"
   ]
  },
  {
   "cell_type": "markdown",
   "id": "6f3e19b7-c996-4333-bbea-6bd63122140a",
   "metadata": {},
   "source": [
    "### The below code will print 'Hello World'"
   ]
  },
  {
   "cell_type": "code",
   "execution_count": 35,
   "id": "cc0904aa-d69b-4974-89ee-9a65cf7ac2a5",
   "metadata": {},
   "outputs": [
    {
     "name": "stdout",
     "output_type": "stream",
     "text": [
      "Hello World\n"
     ]
    }
   ],
   "source": [
    "print('Hello World')"
   ]
  },
  {
   "cell_type": "markdown",
   "id": "9e03bbca-ca18-4c13-adc0-a080ddd1f11c",
   "metadata": {},
   "source": [
    "- ML\n",
    "1. AI\n",
    "***"
   ]
  },
  {
   "cell_type": "code",
   "execution_count": null,
   "id": "8f5cf701-bfc1-46db-a952-b15af47c8b89",
   "metadata": {},
   "outputs": [],
   "source": []
  }
 ],
 "metadata": {
  "kernelspec": {
   "display_name": "Python",
   "language": "python",
   "name": "conda-env-python-py"
  },
  "language_info": {
   "codemirror_mode": {
    "name": "ipython",
    "version": 3
   },
   "file_extension": ".py",
   "mimetype": "text/x-python",
   "name": "python",
   "nbconvert_exporter": "python",
   "pygments_lexer": "ipython3",
   "version": "3.7.12"
  },
  "toc-autonumbering": false,
  "toc-showcode": true,
  "toc-showmarkdowntxt": true,
  "toc-showtags": true
 },
 "nbformat": 4,
 "nbformat_minor": 5
}
